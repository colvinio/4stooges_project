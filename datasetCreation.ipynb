{
 "cells": [
  {
   "cell_type": "code",
   "execution_count": null,
   "id": "6ebc0fd5-af2b-4a64-9e8d-0dd6251de2c6",
   "metadata": {},
   "outputs": [],
   "source": [
    "import pandas\n",
    "\n",
    "# Read only the first 1,000,000 rows\n",
    "dataset = pandas.read_csv(\"1950_Dataset.csv\")\n",
    "genius_lyrics = pandas.read_csv(\"song_lyrics.csv\", nrows=1_900_000)\n",
    "\n",
    "dataset = dataset[dataset['release_date'] >= 1980]\n",
    "dataset = dataset.drop(dataset.columns[0], axis=1)\n",
    "\n",
    "dataset['artist_name'] = dataset['artist_name'].str.lower()\n",
    "dataset['track_name'] = dataset['track_name'].str.lower()\n",
    "\n",
    "genius_lyrics['artist'] = genius_lyrics['artist'].str.lower()\n",
    "genius_lyrics['title'] = genius_lyrics['title'].str.lower()\n",
    "\n",
    "merged_df = pd.merge(\n",
    "    dataset,\n",
    "    genius_lyrics,\n",
    "    left_on=['artist_name', 'track_name'],\n",
    "    right_on=['artist', 'title'],\n",
    "    how='inner'\n",
    ")\n",
    "\n",
    "merged_df = merged_df.drop(columns=['artist', 'title','release_date', 'genre', 'len', 'topic'], errors='ignore')\n",
    "\n",
    "merged_df.to_csv('merged_songs.csv', index=False)"
   ]
  },
  {
   "cell_type": "code",
   "execution_count": 25,
   "id": "b4019420-3c80-40dc-9a32-52345034b3c6",
   "metadata": {},
   "outputs": [],
   "source": [
    "merged_df = merged_df.drop(columns=[\"tag\", \"year\", \"views\", \"features\", \"id\", \"language_cld3\", \"language_ft\", \"language\", \"lyrics_x\"], errors='ignore')\n",
    "merged_df.to_csv('merged_songs.csv', index=False)"
   ]
  },
  {
   "cell_type": "code",
   "execution_count": null,
   "id": "918e38b9-b4b2-4d04-9bc6-562757afbdfe",
   "metadata": {},
   "outputs": [],
   "source": []
  }
 ],
 "metadata": {
  "kernelspec": {
   "display_name": "Python 3 (ipykernel)",
   "language": "python",
   "name": "python3"
  },
  "language_info": {
   "codemirror_mode": {
    "name": "ipython",
    "version": 3
   },
   "file_extension": ".py",
   "mimetype": "text/x-python",
   "name": "python",
   "nbconvert_exporter": "python",
   "pygments_lexer": "ipython3",
   "version": "3.11.5"
  }
 },
 "nbformat": 4,
 "nbformat_minor": 5
}
